{
  "nbformat": 4,
  "nbformat_minor": 0,
  "metadata": {
    "colab": {
      "provenance": []
    },
    "kernelspec": {
      "name": "python3",
      "display_name": "Python 3"
    },
    "language_info": {
      "name": "python"
    }
  },
  "cells": [
    {
      "cell_type": "code",
      "execution_count": null,
      "metadata": {
        "id": "t945go6c6CeB"
      },
      "outputs": [],
      "source": [
        "#DFT calculation\n",
        "import numpy as np\n",
        "import cmath\n",
        "import matplotlib.pyplot as plt"
      ]
    },
    {
      "cell_type": "code",
      "source": [
        "x = [1,2,3,4,5,6,7,8]\n",
        "dft = []\n",
        "def DFT(x,N):\n",
        "  if(len(x)<N):\n",
        "    for i in range(N-len(x)):\n",
        "      x.append(0)\n",
        "  for k in range(N):\n",
        "    p = 0\n",
        "    for n in range(N):\n",
        "      r = (-1)*2*np.pi*k*n/N\n",
        "      print(r)\n",
        "      t = complex(0,r)\n",
        "      p  = p + x[n] * cmath.exp(t)\n",
        "    dft.append(p)"
      ],
      "metadata": {
        "id": "dOr13ZwF9fgU"
      },
      "execution_count": null,
      "outputs": []
    },
    {
      "cell_type": "code",
      "source": [
        "DFT(x,8)"
      ],
      "metadata": {
        "colab": {
          "base_uri": "https://localhost:8080/"
        },
        "id": "s7tmbwfU-jaF",
        "outputId": "3aa8b305-e3be-47fb-8c88-b21cd3bd4a62"
      },
      "execution_count": null,
      "outputs": [
        {
          "output_type": "stream",
          "name": "stdout",
          "text": [
            "-0.0\n",
            "-0.0\n",
            "-0.0\n",
            "-0.0\n",
            "-0.0\n",
            "-0.0\n",
            "-0.0\n",
            "-0.0\n",
            "-0.0\n",
            "-0.7853981633974483\n",
            "-1.5707963267948966\n",
            "-2.356194490192345\n",
            "-3.141592653589793\n",
            "-3.9269908169872414\n",
            "-4.71238898038469\n",
            "-5.497787143782138\n",
            "-0.0\n",
            "-1.5707963267948966\n",
            "-3.141592653589793\n",
            "-4.71238898038469\n",
            "-6.283185307179586\n",
            "-7.853981633974483\n",
            "-9.42477796076938\n",
            "-10.995574287564276\n",
            "-0.0\n",
            "-2.356194490192345\n",
            "-4.71238898038469\n",
            "-7.0685834705770345\n",
            "-9.42477796076938\n",
            "-11.780972450961723\n",
            "-14.137166941154069\n",
            "-16.493361431346415\n",
            "-0.0\n",
            "-3.141592653589793\n",
            "-6.283185307179586\n",
            "-9.42477796076938\n",
            "-12.566370614359172\n",
            "-15.707963267948966\n",
            "-18.84955592153876\n",
            "-21.991148575128552\n",
            "-0.0\n",
            "-3.9269908169872414\n",
            "-7.853981633974483\n",
            "-11.780972450961723\n",
            "-15.707963267948966\n",
            "-19.634954084936208\n",
            "-23.561944901923447\n",
            "-27.48893571891069\n",
            "-0.0\n",
            "-4.71238898038469\n",
            "-9.42477796076938\n",
            "-14.137166941154069\n",
            "-18.84955592153876\n",
            "-23.561944901923447\n",
            "-28.274333882308138\n",
            "-32.98672286269283\n",
            "-0.0\n",
            "-5.497787143782138\n",
            "-10.995574287564276\n",
            "-16.493361431346415\n",
            "-21.991148575128552\n",
            "-27.48893571891069\n",
            "-32.98672286269283\n",
            "-38.48451000647496\n"
          ]
        }
      ]
    },
    {
      "cell_type": "code",
      "source": [
        "dft"
      ],
      "metadata": {
        "id": "dBUu1nJV-7zE",
        "colab": {
          "base_uri": "https://localhost:8080/"
        },
        "outputId": "4a01b6a8-438f-4bcc-cb6b-1e970b7097cd"
      },
      "execution_count": null,
      "outputs": [
        {
          "output_type": "execute_result",
          "data": {
            "text/plain": [
              "[(36+0j),\n",
              " (-4.000000000000003+9.65685424949238j),\n",
              " (-4.000000000000002+3.9999999999999982j),\n",
              " (-4+1.656854249492386j),\n",
              " (-4-3.91886975727153e-15j),\n",
              " (-4.0000000000000115-1.6568542494923912j),\n",
              " (-4.000000000000018-4.000000000000005j),\n",
              " (-3.9999999999999725-9.656854249492369j)]"
            ]
          },
          "metadata": {},
          "execution_count": 82
        }
      ]
    },
    {
      "cell_type": "code",
      "source": [
        "np.fft.fft(x,8)"
      ],
      "metadata": {
        "colab": {
          "base_uri": "https://localhost:8080/"
        },
        "id": "KGyfeLB8CTHC",
        "outputId": "4024261f-4244-48df-c5ad-16cf3bf0a82f"
      },
      "execution_count": null,
      "outputs": [
        {
          "output_type": "execute_result",
          "data": {
            "text/plain": [
              "array([36.+0.j        , -4.+9.65685425j, -4.+4.j        , -4.+1.65685425j,\n",
              "       -4.+0.j        , -4.-1.65685425j, -4.-4.j        , -4.-9.65685425j])"
            ]
          },
          "metadata": {},
          "execution_count": 83
        }
      ]
    },
    {
      "cell_type": "code",
      "source": [
        "x = [ele.real for ele in dft]\n",
        "y = [ele.imag for ele in dft]\n",
        "plt.scatter(x, y)\n",
        "plt.ylabel('Imaginary')\n",
        "plt.xlabel('Real')\n",
        "plt.show()"
      ],
      "metadata": {
        "colab": {
          "base_uri": "https://localhost:8080/",
          "height": 279
        },
        "id": "WvQGLKZPYnQ7",
        "outputId": "c3132eac-d480-47d7-a4e9-83e1eeec93e6"
      },
      "execution_count": null,
      "outputs": [
        {
          "output_type": "display_data",
          "data": {
            "text/plain": [
              "<Figure size 432x288 with 1 Axes>"
            ],
            "image/png": "[encoded data removed]"
          },
          "metadata": {
            "needs_background": "light"
          }
        }
      ]
    },
    {
      "cell_type": "code",
      "source": [
        "import numpy as np\n",
        "import matplotlib.pyplot as plt\n",
        "N = 8\n",
        "t = np.arange(N)\n",
        "# m = 4\n",
        "# nu = float(m)/N\n",
        "dft_magnitude = [np.sqrt((ele.real**2) + (ele.imag**2)) for ele in dft]\n",
        "# freq = np.fft.fftfreq(N)\n",
        "k = np.arange(N)\n",
        "plt.stem(k, dft_magnitude)\n",
        "plt.xlabel(\"K\")\n",
        "plt.ylabel(\"|X(K)|\")\n",
        "plt.title(\"Magnitude plot\")\n",
        "plt.show()\n",
        "# print(np.array(dft_final).shape,freq.shape)"
      ],
      "metadata": {
        "colab": {
          "base_uri": "https://localhost:8080/",
          "height": 350
        },
        "id": "PSaiWPm6aQEA",
        "outputId": "aa9d385a-2515-4f53-fa63-7951f2006ae5"
      },
      "execution_count": null,
      "outputs": [
        {
          "output_type": "stream",
          "name": "stderr",
          "text": [
            "<ipython-input-85-2491db988007>:10: UserWarning: In Matplotlib 3.3 individual lines on a stem plot will be added as a LineCollection instead of individual lines. This significantly improves the performance of a stem plot. To remove this warning and switch to the new behaviour, set the \"use_line_collection\" keyword argument to True.\n",
            "  plt.stem(k, dft_magnitude)\n"
          ]
        },
        {
          "output_type": "display_data",
          "data": {
            "text/plain": [
              "<Figure size 432x288 with 1 Axes>"
            ],
            "image/png": "[encoded data removed]"
          },
          "metadata": {
            "needs_background": "light"
          }
        }
      ]
    },
    {
      "cell_type": "code",
      "source": [
        "Fs = 10000\n",
        "freq = [(r/N) * Fs for r in k]\n",
        "plt.stem(freq, dft_magnitude)\n",
        "plt.xlabel(\"frequency\")\n",
        "plt.ylabel(\"|X(K)|\")\n",
        "plt.title(\"Magnitude Plot\")\n",
        "plt.show()"
      ],
      "metadata": {
        "colab": {
          "base_uri": "https://localhost:8080/",
          "height": 350
        },
        "id": "pTv6Uzhuxmt3",
        "outputId": "79321660-b6fc-406a-b52f-9d9bd8ca1bc3"
      },
      "execution_count": null,
      "outputs": [
        {
          "output_type": "stream",
          "name": "stderr",
          "text": [
            "<ipython-input-86-abee8df5e0cf>:3: UserWarning: In Matplotlib 3.3 individual lines on a stem plot will be added as a LineCollection instead of individual lines. This significantly improves the performance of a stem plot. To remove this warning and switch to the new behaviour, set the \"use_line_collection\" keyword argument to True.\n",
            "  plt.stem(freq, dft_magnitude)\n"
          ]
        },
        {
          "output_type": "display_data",
          "data": {
            "text/plain": [
              "<Figure size 432x288 with 1 Axes>"
            ],
            "image/png": "[encoded data removed]"
          },
          "metadata": {
            "needs_background": "light"
          }
        }
      ]
    },
    {
      "cell_type": "code",
      "source": [
        "dft_phase = [np.arctan(ele.imag/ele.real)*180/np.pi for ele in dft]\n",
        "plt.stem(k,dft_phase)\n",
        "plt.xlabel(\"K\")\n",
        "plt.ylabel(\"phase\")\n",
        "plt.title(\"Phase plot\")\n",
        "plt.show()"
      ],
      "metadata": {
        "colab": {
          "base_uri": "https://localhost:8080/",
          "height": 350
        },
        "id": "giXgCprbpCJv",
        "outputId": "2415a04d-c998-4a76-c2df-38c7feec360d"
      },
      "execution_count": null,
      "outputs": [
        {
          "output_type": "stream",
          "name": "stderr",
          "text": [
            "<ipython-input-87-39d28344fca3>:2: UserWarning: In Matplotlib 3.3 individual lines on a stem plot will be added as a LineCollection instead of individual lines. This significantly improves the performance of a stem plot. To remove this warning and switch to the new behaviour, set the \"use_line_collection\" keyword argument to True.\n",
            "  plt.stem(k,dft_phase)\n"
          ]
        },
        {
          "output_type": "display_data",
          "data": {
            "text/plain": [
              "<Figure size 432x288 with 1 Axes>"
            ],
            "image/png": "[encoded data removed]"
          },
          "metadata": {
            "needs_background": "light"
          }
        }
      ]
    },
    {
      "cell_type": "code",
      "source": [
        "dft_phase = [np.arctan(ele.imag/ele.real)*180/np.pi for ele in fft]\n",
        "Fs = 10000\n",
        "freq = [(r/N) * Fs for r in k]\n",
        "plt.stem(freq,dft_phase)\n",
        "plt.xlabel(\"frequency\")\n",
        "plt.ylabel(\"Phase\")\n",
        "plt.title(\"Phase plot\")\n",
        "plt.show()"
      ],
      "metadata": {
        "colab": {
          "base_uri": "https://localhost:8080/",
          "height": 350
        },
        "id": "h00KhWtdxoAV",
        "outputId": "3d044edf-e004-43a5-b1e4-4aa8b7006650"
      },
      "execution_count": null,
      "outputs": [
        {
          "output_type": "stream",
          "name": "stderr",
          "text": [
            "<ipython-input-88-c0ecf0beea4f>:4: UserWarning: In Matplotlib 3.3 individual lines on a stem plot will be added as a LineCollection instead of individual lines. This significantly improves the performance of a stem plot. To remove this warning and switch to the new behaviour, set the \"use_line_collection\" keyword argument to True.\n",
            "  plt.stem(freq,dft_phase)\n"
          ]
        },
        {
          "output_type": "display_data",
          "data": {
            "text/plain": [
              "<Figure size 432x288 with 1 Axes>"
            ],
            "image/png": "[encoded data removed]"
          },
          "metadata": {
            "needs_background": "light"
          }
        }
      ]
    },
    {
      "cell_type": "code",
      "source": [
        "x = [1,2,3,4,5,6,7,8]\n",
        "size = len(x)\n",
        "# while(size>1):\n",
        "signal = []\n",
        "def signal_out(signal1,size):\n",
        "  g_1 = []\n",
        "  g_2 = []\n",
        "  for i in range(size//2):\n",
        "    g_1.append(signal1[2*i])\n",
        "  signal1.append(g_1)\n",
        "  for i in range(size//2):\n",
        "    g_2.append(x[2*i+1])\n",
        "  signal1.append(g_2)\n",
        "# for i in range(N)\n",
        "#   signal_out(signal[i],len(signal[i]))  \n",
        "# signal\n",
        "signal=[[1,3,5,7],[2,4,6,8],[1,5],[3,7],[2,6],[4,8]]"
      ],
      "metadata": {
        "id": "uQHh0o2vNt-m"
      },
      "execution_count": null,
      "outputs": []
    },
    {
      "cell_type": "code",
      "source": [
        "#FFT calculation\n",
        "# x = [1,2,3,4,5,6,7,8]\n",
        "# def even(x,N):\n",
        "#   even_fft = []\n",
        "#   for k in range(N):\n",
        "#     s = 0\n",
        "#     for m in range(N):\n",
        "#       q = ((-1)*2*np.pi*k*(2*m))/N\n",
        "#       f = complex(0,q)\n",
        "#       s = s + x[2*m] * np.exp(f)\n",
        "#     even_fft.append(s)\n",
        "\n",
        "# def odd(x,N):\n",
        "#   odd_fft = []\n",
        "#   for k in range(N):\n",
        "#     u1 = 0\n",
        "#     for m in range(N):\n",
        "#       q1 = ((-1)*2*np.pi*k*(2*m+1))/N\n",
        "#       f1 = complex(0,q1)\n",
        "#       s1 = s1 + x[2*m +1] * np.exp(f1)\n",
        "#     odd_fft.append(s1)\n",
        "\n",
        "# def FFT(x,N):\n",
        "#   w1 = []\n",
        "#   N = 8\n",
        "#   d = N\n",
        "#   w.append(d)\n",
        "# while(d>2):\n",
        "#   d = d/2\n",
        "#   w1.append(d)\n",
        "# print(w1)\n",
        "# w1.reverse()\n",
        "# for i in range(len(w1)):\n",
        "#   w = w1[i]\n",
        "#   a = even(x,w)\n",
        "#   b = odd(x,w)\n",
        "#   fft = []\n",
        "#   for k in range(w):\n",
        "#     p1=0\n",
        "#     for n in range(w):\n",
        "#       c = (-1)*2*np.pi*k*n/w\n",
        "#       t1 = complex(0,c)\n",
        "#       res = a[n] + b[n] * np.exp(t1)\n",
        "\n",
        "\n",
        "\n"
      ],
      "metadata": {
        "id": "NXbnriHXEHNJ"
      },
      "execution_count": null,
      "outputs": []
    },
    {
      "cell_type": "code",
      "source": [
        "signal"
      ],
      "metadata": {
        "colab": {
          "base_uri": "https://localhost:8080/"
        },
        "id": "sRISmgqJLp_g",
        "outputId": "586ff888-3304-440e-e7f5-0dd61c7e1f23"
      },
      "execution_count": null,
      "outputs": [
        {
          "output_type": "execute_result",
          "data": {
            "text/plain": [
              "[[1, 3, 5, 7], [2, 4, 6, 8], [1, 5], [3, 7], [2, 6], [4, 8]]"
            ]
          },
          "metadata": {},
          "execution_count": 91
        }
      ]
    },
    {
      "cell_type": "code",
      "source": [
        "signal1=[]\n",
        "signal2=[]\n",
        "for i in range(len(signal)):\n",
        "  if(len(signal[i]) == 2):\n",
        "    signal1.append(signal[i])\n",
        "  if(len(signal[i]) == 4):\n",
        "    signal2.append(signal[i])\n",
        "print(signal1)\n",
        "print(signal2)"
      ],
      "metadata": {
        "colab": {
          "base_uri": "https://localhost:8080/"
        },
        "id": "KSIwQnh9LuZS",
        "outputId": "62470bd6-5e46-4535-983e-42728d16ab3b"
      },
      "execution_count": null,
      "outputs": [
        {
          "output_type": "stream",
          "name": "stdout",
          "text": [
            "[[1, 5], [3, 7], [2, 6], [4, 8]]\n",
            "[[1, 3, 5, 7], [2, 4, 6, 8]]\n"
          ]
        }
      ]
    },
    {
      "cell_type": "code",
      "source": [
        "\n",
        "def FFT(x,N):\n",
        "  fft = []\n",
        "  if(len(x)<N):\n",
        "    for i in range(N-len(x)):\n",
        "      x.append(0)\n",
        "  for k in range(N):\n",
        "    p2 = 0\n",
        "    for n in range(N):\n",
        "      r2 = (-1)*2*np.pi*k*n/N\n",
        "      t2 = complex(0,r2)\n",
        "      p2  = p2 + x[n] * cmath.exp(t2)\n",
        "    fft.append(p2)\n",
        "  return fft"
      ],
      "metadata": {
        "id": "p3ROtcouSLa4"
      },
      "execution_count": null,
      "outputs": []
    },
    {
      "cell_type": "code",
      "source": [
        "fft1 = []\n",
        "for i in range(len(signal1)):\n",
        "  fft1.append(FFT(signal1[i],2))\n",
        "print(fft1)"
      ],
      "metadata": {
        "colab": {
          "base_uri": "https://localhost:8080/"
        },
        "id": "di0NhrX_Vov_",
        "outputId": "b43585c4-63f0-458f-fae9-97990c74191d"
      },
      "execution_count": null,
      "outputs": [
        {
          "output_type": "stream",
          "name": "stdout",
          "text": [
            "[[(6+0j), (-4-6.123233995736766e-16j)], [(10+0j), (-4-8.572527594031472e-16j)], [(8+0j), (-4-7.347880794884119e-16j)], [(12+0j), (-4-9.797174393178826e-16j)]]\n"
          ]
        }
      ]
    },
    {
      "cell_type": "code",
      "source": [
        "signal21 = []\n",
        "signal22 = []\n",
        "print(len(fft1))\n",
        "fft_2point = []\n",
        "for i in range(len(fft1)):\n",
        "  fft_2point.append(fft1[i][0])\n",
        "  fft_2point.append(fft1[i][1])\n",
        "fft_2point\n",
        "print(len(fft_2point))\n",
        "e = len(fft_2point)//2\n",
        "print(e)\n",
        "for i in range(len(fft_2point)//2):\n",
        "   signal21.append(fft_2point[i])\n",
        "for i in range(len(fft_2point)//2):\n",
        "   signal22.append(fft_2point[i+e])\n",
        "\n",
        "print(signal21)\n",
        "print(signal22)\n",
        "\n"
      ],
      "metadata": {
        "colab": {
          "base_uri": "https://localhost:8080/"
        },
        "id": "akzaGDXqXVd1",
        "outputId": "df2a38cd-57d9-4f4c-ef4c-85e1433cb1f8"
      },
      "execution_count": null,
      "outputs": [
        {
          "output_type": "stream",
          "name": "stdout",
          "text": [
            "4\n",
            "8\n",
            "4\n",
            "[(6+0j), (-4-6.123233995736766e-16j), (10+0j), (-4-8.572527594031472e-16j)]\n",
            "[(8+0j), (-4-7.347880794884119e-16j), (12+0j), (-4-9.797174393178826e-16j)]\n"
          ]
        }
      ]
    },
    {
      "cell_type": "code",
      "source": [
        "fft2 = []\n",
        "signal_4point = []\n",
        "signal_4point.append(signal21)\n",
        "signal_4point.append(signal22)\n",
        "print(signal_4point)\n",
        "print(len(signal_4point))\n",
        "for i in range(len(signal_4point)):\n",
        "  fft2.append(FFT(signal_4point[i],4))\n",
        "print(fft2)"
      ],
      "metadata": {
        "colab": {
          "base_uri": "https://localhost:8080/"
        },
        "id": "Okz60GVfYPhl",
        "outputId": "9196958d-4fd1-46f9-f829-8e5e07a127f1"
      },
      "execution_count": null,
      "outputs": [
        {
          "output_type": "stream",
          "name": "stdout",
          "text": [
            "[[(6+0j), (-4-6.123233995736766e-16j), (10+0j), (-4-8.572527594031472e-16j)], [(8+0j), (-4-7.347880794884119e-16j), (12+0j), (-4-9.797174393178826e-16j)]]\n",
            "2\n",
            "[[(8-1.4695761589768238e-15j), (-3.999999999999999-1.3322676295501878e-15j), (24+5.878304635907295e-15j), (-4.000000000000001-3.552713678800501e-15j)], [(12-1.7145055188062944e-15j), (-3.999999999999999-1.3322676295501878e-15j), (28+6.613092715395707e-15j), (-4.000000000000002-4.440892098500626e-15j)]]\n"
          ]
        }
      ]
    },
    {
      "cell_type": "code",
      "source": [
        "x = [1,2,3,4,5,6,7,8]\n",
        "np.fft.fft(x,8)"
      ],
      "metadata": {
        "colab": {
          "base_uri": "https://localhost:8080/"
        },
        "id": "gZFsUlVjZwSc",
        "outputId": "0ce9a67f-5517-4345-8a48-58802ce7ae20"
      },
      "execution_count": null,
      "outputs": [
        {
          "output_type": "execute_result",
          "data": {
            "text/plain": [
              "array([36.+0.j        , -4.+9.65685425j, -4.+4.j        , -4.+1.65685425j,\n",
              "       -4.+0.j        , -4.-1.65685425j, -4.-4.j        , -4.-9.65685425j])"
            ]
          },
          "metadata": {},
          "execution_count": 97
        }
      ]
    },
    {
      "cell_type": "code",
      "source": [
        "import matplotlib.pyplot as plt\n",
        "import numpy as np\n",
        "\n",
        "# plt.style.use('seaborn-poster')\n",
        "# %matplotlib inline\n",
        "def FFT(x):\n",
        "  N = len(x)\n",
        "  if N == 1:\n",
        "    return x\n",
        "  else:\n",
        "    X_even = FFT(x[::2])\n",
        "    X_odd = FFT(x[1::2])\n",
        "    factor = \\\n",
        "    np.exp(-2j*np.pi*np.arange(N)/ N)\n",
        "    X = np.concatenate(\\\n",
        "                       [X_even+factor[:int(N/2)]*X_odd,\n",
        "                        X_even+factor[int(N/2):]*X_odd])\n",
        "  return X"
      ],
      "metadata": {
        "id": "rSs5RZ3Tf0NN"
      },
      "execution_count": null,
      "outputs": []
    },
    {
      "cell_type": "code",
      "source": [
        "x = [1,2,3,4,5,6,7,8]\n",
        "fft = FFT(x)"
      ],
      "metadata": {
        "id": "w_JbGdtR_8PE"
      },
      "execution_count": null,
      "outputs": []
    },
    {
      "cell_type": "code",
      "source": [
        "np.fft.fft(x)"
      ],
      "metadata": {
        "colab": {
          "base_uri": "https://localhost:8080/"
        },
        "id": "VFOhVZ74AS5o",
        "outputId": "cba4aadb-9c8f-4a1e-a68b-128314e6c15d"
      },
      "execution_count": null,
      "outputs": [
        {
          "output_type": "execute_result",
          "data": {
            "text/plain": [
              "array([36.+0.j        , -4.+9.65685425j, -4.+4.j        , -4.+1.65685425j,\n",
              "       -4.+0.j        , -4.-1.65685425j, -4.-4.j        , -4.-9.65685425j])"
            ]
          },
          "metadata": {},
          "execution_count": 100
        }
      ]
    },
    {
      "cell_type": "code",
      "source": [
        "fft"
      ],
      "metadata": {
        "colab": {
          "base_uri": "https://localhost:8080/"
        },
        "id": "YRoI_cpBp1A7",
        "outputId": "03631991-459e-47e7-d9f5-6b21872b12e4"
      },
      "execution_count": null,
      "outputs": [
        {
          "output_type": "execute_result",
          "data": {
            "text/plain": [
              "array([36.+0.00000000e+00j, -4.+9.65685425e+00j, -4.+4.00000000e+00j,\n",
              "       -4.+1.65685425e+00j, -4.-2.44929360e-15j, -4.-1.65685425e+00j,\n",
              "       -4.-4.00000000e+00j, -4.-9.65685425e+00j])"
            ]
          },
          "metadata": {},
          "execution_count": 101
        }
      ]
    },
    {
      "cell_type": "code",
      "source": [
        "import numpy as np\n",
        "import matplotlib.pyplot as plt\n",
        "N = 8\n",
        "t = np.arange(N)\n",
        "# m = 4\n",
        "# nu = float(m)/N\n",
        "fft_magnitude = [np.sqrt((ele.real**2) + (ele.imag**2)) for ele in fft]\n",
        "# freq = np.fft.fftfreq(N)\n",
        "k = np.arange(N)\n",
        "print(k)\n",
        "plt.stem(k, fft_magnitude)\n",
        "plt.xlabel(\"K\")\n",
        "plt.ylabel(\"|X(K)|\")\n",
        "plt.title(\"Magnitude Plot\")\n",
        "plt.show()"
      ],
      "metadata": {
        "colab": {
          "base_uri": "https://localhost:8080/",
          "height": 367
        },
        "id": "AiW7iWsJp3kT",
        "outputId": "a2ec95fd-3228-4c23-ccc9-85c1713d9cab"
      },
      "execution_count": null,
      "outputs": [
        {
          "output_type": "stream",
          "name": "stdout",
          "text": [
            "[0 1 2 3 4 5 6 7]\n"
          ]
        },
        {
          "output_type": "stream",
          "name": "stderr",
          "text": [
            "<ipython-input-102-37aca7d357b9>:11: UserWarning: In Matplotlib 3.3 individual lines on a stem plot will be added as a LineCollection instead of individual lines. This significantly improves the performance of a stem plot. To remove this warning and switch to the new behaviour, set the \"use_line_collection\" keyword argument to True.\n",
            "  plt.stem(k, fft_magnitude)\n"
          ]
        },
        {
          "output_type": "display_data",
          "data": {
            "text/plain": [
              "<Figure size 432x288 with 1 Axes>"
            ],
            "image/png": "[encoded data removed]"
          },
          "metadata": {
            "needs_background": "light"
          }
        }
      ]
    },
    {
      "cell_type": "code",
      "source": [
        "Fs = 10000\n",
        "freq = [(r/N) * Fs for r in k]\n",
        "plt.stem(freq, fft_magnitude)\n",
        "plt.xlabel(\"frequency\")\n",
        "plt.ylabel(\"|X(K)|\")\n",
        "plt.title(\"Magnitude Plot\")\n",
        "plt.show()"
      ],
      "metadata": {
        "colab": {
          "base_uri": "https://localhost:8080/",
          "height": 350
        },
        "id": "Stc9-f3Ww2OA",
        "outputId": "cbb0d5f5-fad5-4eb8-ff63-a6cfc6da0aa0"
      },
      "execution_count": null,
      "outputs": [
        {
          "output_type": "stream",
          "name": "stderr",
          "text": [
            "<ipython-input-103-fb84ba7bcc39>:3: UserWarning: In Matplotlib 3.3 individual lines on a stem plot will be added as a LineCollection instead of individual lines. This significantly improves the performance of a stem plot. To remove this warning and switch to the new behaviour, set the \"use_line_collection\" keyword argument to True.\n",
            "  plt.stem(freq, fft_magnitude)\n"
          ]
        },
        {
          "output_type": "display_data",
          "data": {
            "text/plain": [
              "<Figure size 432x288 with 1 Axes>"
            ],
            "image/png": "[encoded data removed]"
          },
          "metadata": {
            "needs_background": "light"
          }
        }
      ]
    },
    {
      "cell_type": "code",
      "source": [
        "fft_phase = [np.arctan(ele.imag/ele.real)*180/np.pi for ele in fft]\n",
        "plt.stem(k,fft_phase)\n",
        "plt.xlabel(\"K\")\n",
        "plt.ylabel(\"Phase\")\n",
        "plt.title(\"Phase plot\")\n",
        "plt.show()"
      ],
      "metadata": {
        "colab": {
          "base_uri": "https://localhost:8080/",
          "height": 350
        },
        "id": "At4jzrvLqJZD",
        "outputId": "818224a4-8cee-400c-b0dc-d08d53d89690"
      },
      "execution_count": null,
      "outputs": [
        {
          "output_type": "stream",
          "name": "stderr",
          "text": [
            "<ipython-input-104-52385634583d>:2: UserWarning: In Matplotlib 3.3 individual lines on a stem plot will be added as a LineCollection instead of individual lines. This significantly improves the performance of a stem plot. To remove this warning and switch to the new behaviour, set the \"use_line_collection\" keyword argument to True.\n",
            "  plt.stem(k,fft_phase)\n"
          ]
        },
        {
          "output_type": "display_data",
          "data": {
            "text/plain": [
              "<Figure size 432x288 with 1 Axes>"
            ],
            "image/png": "[encoded data removed]"
          },
          "metadata": {
            "needs_background": "light"
          }
        }
      ]
    },
    {
      "cell_type": "code",
      "source": [
        "fft_phase = [np.arctan(ele.imag/ele.real)*180/np.pi for ele in fft]\n",
        "Fs = 10000\n",
        "freq = [(r/N) * Fs for r in k]\n",
        "plt.stem(freq,fft_phase)\n",
        "plt.xlabel(\"frequency\")\n",
        "plt.ylabel(\"Phase\")\n",
        "plt.title(\"Phase plot\")\n",
        "plt.show()"
      ],
      "metadata": {
        "colab": {
          "base_uri": "https://localhost:8080/",
          "height": 350
        },
        "id": "s4jlw_g7qQz3",
        "outputId": "4c08a7ad-b683-46a6-e9bd-e53b401d40d4"
      },
      "execution_count": null,
      "outputs": [
        {
          "output_type": "stream",
          "name": "stderr",
          "text": [
            "<ipython-input-105-d56a559a171b>:4: UserWarning: In Matplotlib 3.3 individual lines on a stem plot will be added as a LineCollection instead of individual lines. This significantly improves the performance of a stem plot. To remove this warning and switch to the new behaviour, set the \"use_line_collection\" keyword argument to True.\n",
            "  plt.stem(freq,fft_phase)\n"
          ]
        },
        {
          "output_type": "display_data",
          "data": {
            "text/plain": [
              "<Figure size 432x288 with 1 Axes>"
            ],
            "image/png": "[encoded data removed]"
          },
          "metadata": {
            "needs_background": "light"
          }
        }
      ]
    },
    {
      "cell_type": "code",
      "source": [],
      "metadata": {
        "id": "Ugrke2wIqimn"
      },
      "execution_count": null,
      "outputs": []
    }
  ]
}